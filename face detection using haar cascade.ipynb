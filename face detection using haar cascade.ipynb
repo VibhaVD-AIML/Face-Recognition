{
 "cells": [
  {
   "cell_type": "code",
   "execution_count": null,
   "metadata": {
    "collapsed": false
   },
   "outputs": [],
   "source": [
    "import cv2                  # Importing the opencv\n",
    "import NameFind\n"
   ]
  },
  {
   "cell_type": "code",
   "execution_count": null,
   "metadata": {
    "collapsed": false
   },
   "outputs": [],
   "source": [
    "# import the Haar cascades for face and eye ditection\n",
    "\n",
    "face_cascade = cv2.CascadeClassifier('haarcascade_frontalcatface.xml')\n",
    "eye_cascade = cv2.CascadeClassifier('haarcascade_eye.xml')\n",
    "\n",
    "cap = cv2.VideoCapture(0)\n",
    "\n",
    "while True:\n",
    "    ret, frame = cap.read()\n",
    "    #gray = cv2.cvtColor(frame, cv2.COLOR_BGR2GRAY)                    # Convert the Camera to gray\n",
    "\n",
    "    # ---------------------------------- FACE DETECTION ------------------------------------\n",
    "\n",
    "    faces = face_cascade.detectMultiScale(frame, 1.3, 5)             # Detect the faces and store the positions\n",
    "    for (x, y, w, h) in faces:# Frames  LOCATION X, Y  WIDTH, HEIGHT\n",
    "        print(x,y,w,h)\n",
    "        gray_face = cv2.resize((frame[y: y+h, x: x+w]), (110, 110))  # The Face is isolated and cropped\n",
    "        eyes = eye_cascade.detectMultiScale(gray_face)\n",
    "        for (ex, ey, ew, eh) in eyes:\n",
    "            NameFind.draw_box(frame, x, y, w, h)\n",
    "\n",
    "    cv2.imshow('Face Detection Using Haar-Cascades ', frame)         # Show the video\n",
    "    if cv2.waitKey(1) & 0xFF == ord('q'):                           # Quit if the key is Q\n",
    "        break\n",
    "\n",
    "cv2.destroyAllWindows()"
   ]
  },
  {
   "cell_type": "code",
   "execution_count": null,
   "metadata": {
    "collapsed": true
   },
   "outputs": [],
   "source": []
  }
 ],
 "metadata": {
  "kernelspec": {
   "display_name": "Python 3",
   "language": "python",
   "name": "python3"
  },
  "language_info": {
   "codemirror_mode": {
    "name": "ipython",
    "version": 3
   },
   "file_extension": ".py",
   "mimetype": "text/x-python",
   "name": "python",
   "nbconvert_exporter": "python",
   "pygments_lexer": "ipython3",
   "version": "3.6.0"
  }
 },
 "nbformat": 4,
 "nbformat_minor": 2
}
