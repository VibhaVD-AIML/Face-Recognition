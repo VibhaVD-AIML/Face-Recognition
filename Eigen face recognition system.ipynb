{
 "cells": [
  {
   "cell_type": "code",
   "execution_count": 1,
   "metadata": {
    "collapsed": false
   },
   "outputs": [],
   "source": [
    "import cv2                                                                      # Importing the opencv\n",
    "import NameFind\n",
    "WHITE = [255, 255, 255]\n",
    "import time\n",
    "#import AddressFind\n"
   ]
  },
  {
   "cell_type": "code",
   "execution_count": 9,
   "metadata": {
    "collapsed": false
   },
   "outputs": [
    {
     "ename": "error",
     "evalue": "OpenCV(3.4.1) C:\\projects\\opencv-python\\opencv_contrib\\modules\\face\\src\\facerec.cpp:61: error: (-2) File can't be opened for reading! in function cv::face::FaceRecognizer::read\n",
     "output_type": "error",
     "traceback": [
      "\u001b[0;31m---------------------------------------------------------------------------\u001b[0m",
      "\u001b[0;31merror\u001b[0m                                     Traceback (most recent call last)",
      "\u001b[0;32m<ipython-input-9-9d3881bac8f2>\u001b[0m in \u001b[0;36m<module>\u001b[0;34m()\u001b[0m\n\u001b[1;32m      6\u001b[0m \u001b[1;33m\u001b[0m\u001b[0m\n\u001b[1;32m      7\u001b[0m \u001b[0mrecognise\u001b[0m \u001b[1;33m=\u001b[0m \u001b[0mcv2\u001b[0m\u001b[1;33m.\u001b[0m\u001b[0mface_EigenFaceRecognizer\u001b[0m\u001b[1;33m.\u001b[0m\u001b[0mcreate\u001b[0m\u001b[1;33m(\u001b[0m\u001b[1;36m15\u001b[0m\u001b[1;33m,\u001b[0m \u001b[1;36m4000\u001b[0m\u001b[1;33m)\u001b[0m  \u001b[1;31m# creating EIGEN FACE RECOGNISER\u001b[0m\u001b[1;33m\u001b[0m\u001b[0m\n\u001b[0;32m----> 8\u001b[0;31m \u001b[0mrecognise\u001b[0m\u001b[1;33m.\u001b[0m\u001b[0mread\u001b[0m\u001b[1;33m(\u001b[0m\u001b[1;34m\"FACE_RECOGNITION FOLDER\\trainingDataEigan.xml\"\u001b[0m\u001b[1;33m)\u001b[0m                              \u001b[1;31m# Load the training data\u001b[0m\u001b[1;33m\u001b[0m\u001b[0m\n\u001b[0m",
      "\u001b[0;31merror\u001b[0m: OpenCV(3.4.1) C:\\projects\\opencv-python\\opencv_contrib\\modules\\face\\src\\facerec.cpp:61: error: (-2) File can't be opened for reading! in function cv::face::FaceRecognizer::read\n"
     ]
    }
   ],
   "source": [
    "#   import the Haar cascades for face and eye ditection\n",
    "\n",
    "face_cascade = cv2.CascadeClassifier('D:\\INTERNSHIP\\Image\\haarcascade_frontalcatface.xml')\n",
    "#face_cascade = cv2.CascadeClassifier('D:\\INTERNSHIP\\Image\\trainingDataEigan.xml')\n",
    "eye_cascade = cv2.CascadeClassifier('D:\\INTERNSHIP\\Image\\haarcascade_eye.xml')\n",
    "\n",
    "recognise = cv2.face_EigenFaceRecognizer.create(15, 4000)  # creating EIGEN FACE RECOGNISER\n",
    "recognise.read(\"FACE_RECOGNITION FOLDER\\trainingDataEigan.xml\")                              # Load the training data"
   ]
  },
  {
   "cell_type": "code",
   "execution_count": null,
   "metadata": {
    "collapsed": false
   },
   "outputs": [],
   "source": [
    "# -------------------------     START THE VIDEO FEED ------------------------------------------\n",
    "cap = cv2.VideoCapture(0)                                                       # Camera object\n",
    "# cap = cv2.VideoCapture('TestVid.wmv')   # Video object\n",
    "ID = 0\n",
    "ID1=0\n",
    "\n",
    "while(True):\n",
    "    time.sleep(.1)\n",
    "    ret, frame = cap.read()  # Read the camera object\n",
    "    if ret == True:\n",
    "        gray = cv2.cvtColor(frame, cv2.COLOR_BGR2GRAY)                                # Convert the Camera to gray\n",
    "        faces = face_cascade.detectMultiScale(gray, 1.3, 5)\n",
    "        #print(\"Found\" +str(len(faces))+ \"faces\")# Detect the faces and store the positions\n",
    "    for (x, y, w, h) in faces:                                                  # Frames  LOCATION X, Y  WIDTH, HEIGHT\n",
    "        # ------------ BY CONFIRMING THE EYES ARE INSIDE THE FACE BETTER FACE RECOGNITION IS GAINED ------------------\n",
    "        #print(x,y,w,h)\n",
    "         \n",
    "        cv2.rectangle(gray,(x,y),(x+w,y+h),(127,0,255),2)  # The Face is isolated and cropped\n",
    "        gray_face =cv2.resize(gray[y:y+h,x:x+w],(110,110))\n",
    "        ID, conf = recognise.predict(gray_face)\n",
    "        #ID1, conf1 = recognise.predict(gray_face)\n",
    "        font=cv2.FONT_HERSHEY_SIMPLEX\n",
    "        NAME = NameFind.ID2Name(ID, conf)\n",
    "        #ADDRESS = AddressFind.ID2Address(ID1,conf1)\n",
    "        #cv2.putText(gray, \"FACE DETECTED\", (x+(w//2), y-5), cv2.FONT_HERSHEY_DUPLEX, .4, WHITE)\n",
    "        cv2.putText(gray,NAME,(x+(w//2), y-5), font,1,(255,255,255),2)\n",
    "        # cv2.putText(gray,ADDRESS,(x+(w//2), y-5), font,1,(255,255,255),2)\n",
    "        \n",
    "        \n",
    "        eyes = eye_cascade.detectMultiScale(gray_face)\n",
    "        for (ex, ey, ew, eh) in eyes:\n",
    "            roi_gray = gray[y:y+h,x:x+w]\n",
    "            cv2.rectangle(roi_gray,(ex,ey),(ex+ew,ey+eh),(0,255,0),2)\n",
    "            ID, conf = recognise.predict(gray_face)      # Determine the ID of the photo\n",
    "            \n",
    "            NAME = NameFind.ID2Name(ID, conf)\n",
    "            NameFind.DispID(x, y, w, h, NAME, gray)\n",
    "            cv2.putText(frame,NameFind.ID2Name(ID, conf),(x+(w//2), y-5), font,1,(255,255,255),2)\n",
    "            #cv2.putText(gray, NAME,10,20, cv2.FONT_HERSHEY_SIMPLEX, 0.5, (0, 0, 255),2) \n",
    "            \n",
    "    cv2.imshow('EigenFace Face Recognition System', gray)                       # Show the video\n",
    "    if cv2.waitKey(1) & 0xFF == ord('q'):                                       # Quit if the key is Q\n",
    "        break\n",
    "cap.release()\n",
    "cv2.destroyAllWindows()"
   ]
  },
  {
   "cell_type": "code",
   "execution_count": null,
   "metadata": {
    "collapsed": true
   },
   "outputs": [],
   "source": []
  },
  {
   "cell_type": "code",
   "execution_count": null,
   "metadata": {
    "collapsed": true
   },
   "outputs": [],
   "source": [
    "  "
   ]
  }
 ],
 "metadata": {
  "kernelspec": {
   "display_name": "Python 3",
   "language": "python",
   "name": "python3"
  },
  "language_info": {
   "codemirror_mode": {
    "name": "ipython",
    "version": 3
   },
   "file_extension": ".py",
   "mimetype": "text/x-python",
   "name": "python",
   "nbconvert_exporter": "python",
   "pygments_lexer": "ipython3",
   "version": "3.6.0"
  }
 },
 "nbformat": 4,
 "nbformat_minor": 2
}
