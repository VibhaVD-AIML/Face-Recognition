{
 "cells": [
  {
   "cell_type": "code",
   "execution_count": null,
   "metadata": {
    "collapsed": false
   },
   "outputs": [],
   "source": [
    "import cv2                  # Importing the opencv\n",
    "import numpy as np          # Import Numarical Python\n",
    "import NameFind\n",
    "WHITE = [255, 255, 255]\n",
    "import AddressFind"
   ]
  },
  {
   "cell_type": "code",
   "execution_count": null,
   "metadata": {
    "collapsed": false
   },
   "outputs": [],
   "source": [
    "#   import the Haar cascades for face ditection\n",
    "\n",
    "face_cascade = cv2.CascadeClassifier('haarcascade_frontalcatface.xml')\n",
    "eye_cascade = cv2.CascadeClassifier('haarcascade_eye.xml')\n",
    "\n",
    "ID = NameFind.AddName()\n",
    "ID1 = AddressFind.AddAddress()\n",
    "Count = 0\n",
    "cap = cv2.VideoCapture(0)                                                                           # Camera object\n",
    "\n",
    "while Count < 50:\n",
    "    ret, img = cap.read()\n",
    "    gray = cv2.cvtColor(img, cv2.COLOR_BGR2GRAY)                                                    # Convert the Camera to graySe\n",
    "    if np.average(gray) > 110:                                                                      # Testing the brightness of the image\n",
    "        faces = face_cascade.detectMultiScale(gray, 1.3, 5)                                         # Detect the faces and store the positions\n",
    "        for (x, y, w, h) in faces:                                                                  # Frames  LOCATION X, Y  WIDTH, HEIGHT\n",
    "            FaceImage = gray[y - int(h / 2): y + int(h * 1.5), x - int(x / 2): x + int(w * 1.5)]    # The Face is isolated and cropped\n",
    "            Img = (NameFind.DetectEyes(FaceImage))\n",
    "            font=cv2.FONT_HERSHEY_DUPLEX\n",
    "            #cv2.putText(gray, \"FACE DETECTED\", (x+(w/2), y-5), cv2.FONT_HERSHEY_DUPLEX, .4, WHITE)\n",
    "            cv2.putText(gray,\"FACE DETECTED\",(x+(w//2), y-5), font,1,(255,255,255),2)\n",
    "            if Img is not None:\n",
    "                frame = Img                                                                         # Show the detected faces\n",
    "            else:\n",
    "                frame = gray[y: y+h, x: x+w]\n",
    "            cv2.imwrite(\"dataSet/User.\" + str(ID) + \".\" + str(Count) + \".jpg\", frame)\n",
    "            cv2.waitKey(300)\n",
    "            cv2.imshow(\"CAPTURED PHOTO\", frame)                                                     # show the captured image\n",
    "            Count = Count + 1\n",
    "    cv2.imshow('Face Recognition System Capture Faces', gray)                                       # Show the video\n",
    "    if cv2.waitKey(1) & 0xFF == ord('q'):\n",
    "        break\n",
    "print('FACE CAPTURE FOR THE SUBJECT IS COMPLETE')\n",
    "cap.release()\n",
    "cv2.destroyAllWindows()"
   ]
  }
 ],
 "metadata": {
  "kernelspec": {
   "display_name": "Python 3",
   "language": "python",
   "name": "python3"
  },
  "language_info": {
   "codemirror_mode": {
    "name": "ipython",
    "version": 3
   },
   "file_extension": ".py",
   "mimetype": "text/x-python",
   "name": "python",
   "nbconvert_exporter": "python",
   "pygments_lexer": "ipython3",
   "version": "3.6.0"
  }
 },
 "nbformat": 4,
 "nbformat_minor": 2
}
