{
 "cells": [
  {
   "cell_type": "code",
   "execution_count": null,
   "metadata": {
    "collapsed": false
   },
   "outputs": [],
   "source": [
    "import cv2                  # Importing the opencv\n",
    "import NameFind             # Import Functions\n",
    "WHITE = [255,255,255]\n",
    "\n",
    "# import the Haar cascades for face and eye ditection\n",
    "face_cascade = cv2.CascadeClassifier('haarcascade_frontalcatface.xml')\n",
    "eye_cascade = cv2.CascadeClassifier('haarcascade_eye.xml')\n",
    "recognise = cv2.face.createFisherFaceRecognizer(2, 40)                        # creating FISHER FACE RECOGNISER\n",
    "recognise.load(\"trainingDataFisher.xml\")                            # Load the training data from the trainer to recognise the faces\n",
    "\n",
    "# -------------------------     START THE VIDEO FEED ------------------------------------------\n",
    "cap = cv2.VideoCapture(0)                                                       # Camera object\n",
    "# cap = cv2.VideoCapture('TestVid.wmv')   # Video object\n",
    "ID = 0\n",
    "while True:\n",
    "    ret, img = cap.read()                                                       # Read the camera object\n",
    "    gray = cv2.cvtColor(img, cv2.COLOR_BGR2GRAY)                                # Convert the Camera to gray\n",
    "    faces = face_cascade.detectMultiScale(gray, 1.3, 5)                         # Detect the faces and store the positions\n",
    "    for (x, y, w, h) in faces:                                                  # Frames  LOCATION X, Y  WIDTH, HEIGHT\n",
    "        gray_face = cv2.resize((gray[y: y+h, x: x+w]), (110, 110))              # The Face is isolated and cropped\n",
    "        ID, conf = recognise.predict(gray_face)  \n",
    "        NAME = NameFind.ID2Name(ID ,conf)\n",
    "        font=cv2.FONT_HERSHEY_SIMPLEX\n",
    "        #cv2.putText(gray, \"FACE DETECTED\", (x+(w//2), y-5), cv2.FONT_HERSHEY_DUPLEX, .4, WHITE)\n",
    "        cv2.putText(gray,NAME,(x+(w//2), y-5), font,1,(255,255,255),2)\n",
    "    # -------- BY CONFIRMING THE EYES ARE INSIDE THE FACE BETTER FACE RECOGNITION IS GAINED ----------------\n",
    "        eyes = eye_cascade.detectMultiScale(gray_face)\n",
    "        for (ex, ey, ew, eh) in eyes:\n",
    "            ID, conf = recognise.predict(gray_face)                              # Determine the ID of the photo\n",
    "            NAME = NameFind.ID2Name(ID ,conf)      \n",
    "            NameFind.DispID(x, y, w, h, NAME, gray)\n",
    "    cv2.imshow('FisherFace Face Recognition System', gray)                       # Show the video\n",
    "    if cv2.waitKey(1) & 0xFF == ord('q'):                                        # Quit if the key is Q\n",
    "        break\n",
    "cap.release()\n",
    "cv2.destroyAllWindows()"
   ]
  }
 ],
 "metadata": {
  "kernelspec": {
   "display_name": "Python 3",
   "language": "python",
   "name": "python3"
  },
  "language_info": {
   "codemirror_mode": {
    "name": "ipython",
    "version": 3
   },
   "file_extension": ".py",
   "mimetype": "text/x-python",
   "name": "python",
   "nbconvert_exporter": "python",
   "pygments_lexer": "ipython3",
   "version": "3.6.0"
  }
 },
 "nbformat": 4,
 "nbformat_minor": 2
}
