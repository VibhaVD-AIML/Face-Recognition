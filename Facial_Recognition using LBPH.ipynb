{
 "cells": [
  {
   "cell_type": "code",
   "execution_count": null,
   "metadata": {
    "collapsed": false
   },
   "outputs": [],
   "source": [
    "import cv2                  # Importing the opencv\n",
    "import numpy as np          # Import Numarical Python\n",
    "import NameFind\n",
    "import time\n",
    "\n",
    "# import the Haar cascades for face and eye ditection\n",
    "\n",
    "face_cascade = cv2.CascadeClassifier('haarcascade_frontalcatface.xml')\n",
    "eye_cascade = cv2.CascadeClassifier('haarcascade_eye.xml')\n",
    "\n",
    "\n",
    "recognise = cv2.face.LBPHFaceRecognizer_create(2, 2, 7, 7, 15)                                 # LBPH Face recogniser object\n",
    "recognise.read(\"training_DataLBPH.yml\")                                   # Load the training data from the trainer to recognise the faces"
   ]
  },
  {
   "cell_type": "code",
   "execution_count": null,
   "metadata": {
    "collapsed": false
   },
   "outputs": [],
   "source": [
    "# -------------------------     START THE VIDEO FEED ------------------------------------------\n",
    "cap = cv2.VideoCapture(0)                                                       # Camera object\n",
    "# cap = cv2.VideoCapture('TestVid.wmv')   # Video object\n",
    "ID = 0\n",
    "ID1=0\n",
    "\n",
    "while(True):\n",
    "    #time.sleep(.1)\n",
    "    ret, frame = cap.read()  # Read the camera object\n",
    "    \n",
    "    if ret == True:\n",
    "        gray = cv2.cvtColor(frame, cv2.COLOR_BGR2GRAY)                                # Convert the Camera to gray\n",
    "        faces = face_cascade.detectMultiScale(gray, 1.3, 5)\n",
    "        #print(\"Found\" +str(len(faces))+ \"faces\")# Detect the faces and store the positions\n",
    "    for (x, y, w, h) in faces:                                                  # Frames  LOCATION X, Y  WIDTH, HEIGHT\n",
    "        # ------------ BY CONFIRMING THE EYES ARE INSIDE THE FACE BETTER FACE RECOGNITION IS GAINED ------------------\n",
    "        #print(x,y,w,h)\n",
    "         \n",
    "        cv2.rectangle(gray,(x,y),(x+w,y+h),(127,0,255),2)  # The Face is isolated and cropped\n",
    "        gray_face =cv2.resize(gray[y:y+h,x:x+w],(110,110))\n",
    "        ID, conf = recognise.predict(gray_face)\n",
    "        #ID1, conf1 = recognise.predict(gray_face)\n",
    "        font=cv2.FONT_HERSHEY_SIMPLEX\n",
    "        NAME = NameFind.ID2Name(ID, conf)\n",
    "        #ADDRESS = AddressFind.ID2Address(ID1,conf1)\n",
    "        #cv2.putText(gray, \"FACE DETECTED\", (x+(w//2), y-5), cv2.FONT_HERSHEY_DUPLEX, .4, WHITE)\n",
    "        cv2.putText(gray,NAME,(x+(w//2), y-5), font,1,(255,255,255),2)\n",
    "        # cv2.putText(gray,ADDRESS,(x+(w//2), y-5), font,1,(255,255,255),2)\n",
    "        \n",
    "        \n",
    "        eyes = eye_cascade.detectMultiScale(gray_face)\n",
    "        for (ex, ey, ew, eh) in eyes:\n",
    "            roi_gray = gray[y:y+h,x:x+w]\n",
    "            cv2.rectangle(roi_gray,(ex,ey),(ex+ew,ey+eh),(0,255,0),2)\n",
    "            ID, conf = recognise.predict(gray_face)      # Determine the ID of the photo\n",
    "            \n",
    "            NAME = NameFind.ID2Name(ID, conf)\n",
    "            NameFind.DispID(x, y, w, h, NAME, gray)\n",
    "            cv2.putText(frame,NameFind.ID2Name(ID, conf),(x+(w//2), y-5), font,1,(255,255,255),2)\n",
    "            #cv2.putText(gray, NAME,10,20, cv2.FONT_HERSHEY_SIMPLEX, 0.5, (0, 0, 255),2) \n",
    "            \n",
    "    cv2.imshow('LBPH Face Recognition System', gray)                       # Show the video\n",
    "    if cv2.waitKey(1) & 0xFF == ord('q'):                                       # Quit if the key is Q\n",
    "        break\n",
    "cap.release()\n",
    "cv2.destroyAllWindows()"
   ]
  },
  {
   "cell_type": "code",
   "execution_count": null,
   "metadata": {
    "collapsed": false
   },
   "outputs": [],
   "source": [
    "type(mask)"
   ]
  }
 ],
 "metadata": {
  "kernelspec": {
   "display_name": "Python 3",
   "language": "python",
   "name": "python3"
  },
  "language_info": {
   "codemirror_mode": {
    "name": "ipython",
    "version": 3
   },
   "file_extension": ".py",
   "mimetype": "text/x-python",
   "name": "python",
   "nbconvert_exporter": "python",
   "pygments_lexer": "ipython3",
   "version": "3.6.0"
  }
 },
 "nbformat": 4,
 "nbformat_minor": 2
}
